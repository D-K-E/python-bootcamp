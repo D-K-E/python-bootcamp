{
 "cells": [
  {
   "cell_type": "markdown",
   "metadata": {},
   "source": [
    "# Elements of Code"
   ]
  },
  {
   "cell_type": "markdown",
   "metadata": {},
   "source": [
    "<p>Welcome to your very first course on programming!</p>\n",
    "<p>\n",
    "In this course you are going to be introduced to the founding blocks of any code written in a modern programming language that is executed by a modern computer. We assume no prior knowledge on programming, and the math necessary to comprehend what is written here amounts to knowing the function of (not even the result(!)) every element in the following statement <code>a = 2+1 </code> \n",
    "</p>\n",
    "<p>At the end of this course you would be able to parse any code visually and mentally, once you are given the equivalents of the concepts we are going introduce here. This will enable you to immediately asses what you know and what you don't know when you look at a code.\n",
    "</p> \n",
    "<div class=\"alert alert-warning\">\n",
    "    <p><b>Note</b>: This is arguably the most important lesson in the entire collection. \n",
    "    Be sure to understand the concepts introduced here before proceeding to other lessons if you have no prior programming experience</p>\n",
    "</div>\n"
   ]
  },
  {
   "cell_type": "markdown",
   "metadata": {},
   "source": [
    "<h2>Expressions</h2>"
   ]
  },
  {
   "cell_type": "markdown",
   "metadata": {},
   "source": [
    "<div>\n",
    "    <p>The very first thing you have to learn is that all programs are made up of <b>expressions</b>.</p>\n",
    "    <p>\n",
    "        An expression is simply that which can be evaluated to a value by the machine. It is usually composed of the constructs of the language you are coding in. The key here is to know where an expression ends and another one starts. This is not only necessary for you but also for the machine.\n",
    "    </p>\n",
    "    <p>Most languages use a <i>delimiter</i> to deal with this problem. It can be a newline character <code>\\n</code> or <code>;</code>, or some other character that tells us and to the machine, a value should be produced for the given set of language constructs.\n",
    "    </p>\n",
    "    <p>In the following cell, we are going give excerpts of code written in different programming languages. They are using different delimiters for their expressions, and different constructs in general. Though we will indicate the delimiters of all the languages used in the excerpts afterwards, try to guess what the delimiter could be just by looking at the code</p>\n",
    "    <p>Values produced by the expressions would be the same at each excerpt. Feel free to compare the same value producing expressions with each other in order to understand how a delimiter works, and how it can help you to understand the flow of the program.\n",
    "    </p>\n",
    "</div>"
   ]
  },
  {
   "cell_type": "markdown",
   "metadata": {},
   "source": [
    "```python\n",
    "\n",
    "# python\n",
    "a = 2 + 1\n",
    "b = a + 3\n",
    "c = b + 4\n",
    "```\n",
    "```c\n",
    "\n",
    "// c lang\n",
    "int a = 2 + 1;\n",
    "int b = a + 3;\n",
    "int c = b + 4;\n",
    "```\n",
    "\n",
    "```clojure\n",
    "\n",
    ";; clojure\n",
    "(\n",
    "    def a (+ 1 2)\n",
    ")\n",
    "(\n",
    "    def b  (+ a 3 ) \n",
    ")\n",
    "(\n",
    "    def c  (+ b 4)\n",
    ")\n",
    "\n",
    "```"
   ]
  },
  {
   "cell_type": "markdown",
   "metadata": {},
   "source": [
    "The observed delimiters of each language are \n",
    "\n",
    "- **\\n**, newline char, for python\n",
    "- **;**, semicolon for clang\n",
    "- **()**, paranthesis for clojure\n",
    "\n",
    "Now here is the funny thing. Among all of the excerpts given above only clojure uses a delimiter for each expression. The natural question is then to what a limit is imposed by the other two delimiters ?\n",
    "\n",
    "The two delimiters, that of python and clang, end what is called a statement. We shall take a look at what it is below."
   ]
  },
  {
   "cell_type": "markdown",
   "metadata": {},
   "source": [
    "## Statements"
   ]
  },
  {
   "cell_type": "code",
   "execution_count": null,
   "metadata": {},
   "outputs": [],
   "source": []
  }
 ],
 "metadata": {
  "kernelspec": {
   "display_name": "Python 3",
   "language": "python",
   "name": "python3"
  },
  "language_info": {
   "codemirror_mode": {
    "name": "ipython",
    "version": 3
   },
   "file_extension": ".py",
   "mimetype": "text/x-python",
   "name": "python",
   "nbconvert_exporter": "python",
   "pygments_lexer": "ipython3",
   "version": "3.7.4"
  }
 },
 "nbformat": 4,
 "nbformat_minor": 2
}
